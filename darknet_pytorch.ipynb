{
  "nbformat": 4,
  "nbformat_minor": 0,
  "metadata": {
    "colab": {
      "name": "darknet_pytorch.ipynb",
      "provenance": [],
      "authorship_tag": "ABX9TyOmLAORmUiftlrWgl5WUczd",
      "include_colab_link": true
    },
    "kernelspec": {
      "name": "python3",
      "display_name": "Python 3"
    }
  },
  "cells": [
    {
      "cell_type": "markdown",
      "metadata": {
        "id": "view-in-github",
        "colab_type": "text"
      },
      "source": [
        "<a href=\"https://colab.research.google.com/github/raaaang/Hand-Sign-Language/blob/master/darknet_pytorch.ipynb\" target=\"_parent\"><img src=\"https://colab.research.google.com/assets/colab-badge.svg\" alt=\"Open In Colab\"/></a>"
      ]
    },
    {
      "cell_type": "code",
      "metadata": {
        "id": "1_ObxH0G88Pi",
        "colab_type": "code",
        "colab": {
          "base_uri": "https://localhost:8080/",
          "height": 0
        },
        "outputId": "48cb8f3b-7f62-4ff9-ee81-607bff87b0d5"
      },
      "source": [
        "!git clone https://github.com/eriklindernoren/PyTorch-YOLOv3"
      ],
      "execution_count": 2,
      "outputs": [
        {
          "output_type": "stream",
          "text": [
            "Cloning into 'PyTorch-YOLOv3'...\n",
            "remote: Enumerating objects: 724, done.\u001b[K\n",
            "remote: Total 724 (delta 0), reused 0 (delta 0), pack-reused 724\u001b[K\n",
            "Receiving objects: 100% (724/724), 16.18 MiB | 34.80 MiB/s, done.\n",
            "Resolving deltas: 100% (411/411), done.\n"
          ],
          "name": "stdout"
        }
      ]
    },
    {
      "cell_type": "code",
      "metadata": {
        "id": "UKL_JkSP8-9Y",
        "colab_type": "code",
        "colab": {
          "base_uri": "https://localhost:8080/",
          "height": 0
        },
        "outputId": "893e722b-b27e-48f9-cbf0-b5bc26e69458"
      },
      "source": [
        "cd PyTorch-YOLOv3"
      ],
      "execution_count": 5,
      "outputs": [
        {
          "output_type": "stream",
          "text": [
            "/content/PyTorch-YOLOv3\n"
          ],
          "name": "stdout"
        }
      ]
    },
    {
      "cell_type": "code",
      "metadata": {
        "id": "nSoptcYb9Ff4",
        "colab_type": "code",
        "colab": {
          "base_uri": "https://localhost:8080/",
          "height": 0
        },
        "outputId": "b9cbc617-684f-404c-d8b4-8035274e2dca"
      },
      "source": [
        "!pip3 uninstall Pillow -y\n",
        "!pip3 install Pillow"
      ],
      "execution_count": 11,
      "outputs": [
        {
          "output_type": "stream",
          "text": [
            "Uninstalling Pillow-7.1.2:\n",
            "  Successfully uninstalled Pillow-7.1.2\n",
            "Collecting Pillow\n",
            "  Using cached https://files.pythonhosted.org/packages/e0/50/8e78e6f62ffa50d6ca95c281d5a2819bef66d023ac1b723e253de5bda9c5/Pillow-7.1.2-cp36-cp36m-manylinux1_x86_64.whl\n",
            "\u001b[31mERROR: albumentations 0.1.12 has requirement imgaug<0.2.7,>=0.2.5, but you'll have imgaug 0.2.9 which is incompatible.\u001b[0m\n",
            "Installing collected packages: Pillow\n",
            "Successfully installed Pillow-7.1.2\n"
          ],
          "name": "stdout"
        },
        {
          "output_type": "display_data",
          "data": {
            "application/vnd.colab-display-data+json": {
              "pip_warning": {
                "packages": [
                  "PIL"
                ]
              }
            }
          },
          "metadata": {
            "tags": []
          }
        }
      ]
    },
    {
      "cell_type": "code",
      "metadata": {
        "id": "mNmFvy1k9J9p",
        "colab_type": "code",
        "colab": {
          "base_uri": "https://localhost:8080/",
          "height": 0
        },
        "outputId": "727574b8-9d5f-4a96-cf55-07fefdb92ab5"
      },
      "source": [
        "cd weights/"
      ],
      "execution_count": 7,
      "outputs": [
        {
          "output_type": "stream",
          "text": [
            "/content/PyTorch-YOLOv3/weights\n"
          ],
          "name": "stdout"
        }
      ]
    },
    {
      "cell_type": "code",
      "metadata": {
        "id": "GK7UEO2d9MwW",
        "colab_type": "code",
        "colab": {
          "base_uri": "https://localhost:8080/",
          "height": 0
        },
        "outputId": "4cb33eb2-0b05-4a5b-b7a0-04caa25a53d1"
      },
      "source": [
        "!bash download_weights.sh"
      ],
      "execution_count": 8,
      "outputs": [
        {
          "output_type": "stream",
          "text": [
            "--2020-06-10 15:59:11--  https://pjreddie.com/media/files/yolov3.weights\n",
            "Resolving pjreddie.com (pjreddie.com)... 128.208.4.108\n",
            "Connecting to pjreddie.com (pjreddie.com)|128.208.4.108|:443... connected.\n",
            "HTTP request sent, awaiting response... 200 OK\n",
            "Length: 248007048 (237M) [application/octet-stream]\n",
            "Saving to: ‘yolov3.weights’\n",
            "\n",
            "yolov3.weights      100%[===================>] 236.52M   197KB/s    in 22m 14s \n",
            "\n",
            "2020-06-10 16:21:26 (182 KB/s) - ‘yolov3.weights’ saved [248007048/248007048]\n",
            "\n",
            "--2020-06-10 16:21:26--  https://pjreddie.com/media/files/yolov3-tiny.weights\n",
            "Resolving pjreddie.com (pjreddie.com)... 128.208.4.108\n",
            "Connecting to pjreddie.com (pjreddie.com)|128.208.4.108|:443... connected.\n",
            "HTTP request sent, awaiting response... 200 OK\n",
            "Length: 35434956 (34M) [application/octet-stream]\n",
            "Saving to: ‘yolov3-tiny.weights’\n",
            "\n",
            "yolov3-tiny.weights 100%[===================>]  33.79M   439KB/s    in 2m 34s  \n",
            "\n",
            "2020-06-10 16:24:02 (224 KB/s) - ‘yolov3-tiny.weights’ saved [35434956/35434956]\n",
            "\n",
            "--2020-06-10 16:24:02--  https://pjreddie.com/media/files/darknet53.conv.74\n",
            "Resolving pjreddie.com (pjreddie.com)... 128.208.4.108\n",
            "Connecting to pjreddie.com (pjreddie.com)|128.208.4.108|:443... connected.\n",
            "HTTP request sent, awaiting response... 200 OK\n",
            "Length: 162482580 (155M) [application/octet-stream]\n",
            "Saving to: ‘darknet53.conv.74’\n",
            "\n",
            "darknet53.conv.74   100%[===================>] 154.96M   266KB/s    in 8m 58s  \n",
            "\n",
            "2020-06-10 16:33:02 (295 KB/s) - ‘darknet53.conv.74’ saved [162482580/162482580]\n",
            "\n"
          ],
          "name": "stdout"
        }
      ]
    },
    {
      "cell_type": "code",
      "metadata": {
        "id": "y0_vrcSv9OmT",
        "colab_type": "code",
        "colab": {
          "base_uri": "https://localhost:8080/",
          "height": 0
        },
        "outputId": "f34da524-0510-43fc-b349-dd25bdcf2cee"
      },
      "source": [
        "cd PyTorch-YOLOv3"
      ],
      "execution_count": 6,
      "outputs": [
        {
          "output_type": "stream",
          "text": [
            "/content/PyTorch-YOLOv3\n"
          ],
          "name": "stdout"
        }
      ]
    },
    {
      "cell_type": "code",
      "metadata": {
        "id": "NvaKjlHtKpIx",
        "colab_type": "code",
        "colab": {
          "base_uri": "https://localhost:8080/",
          "height": 0
        },
        "outputId": "5533b763-beb9-48e0-abf9-718713bcae50"
      },
      "source": [
        "ls"
      ],
      "execution_count": 7,
      "outputs": [
        {
          "output_type": "stream",
          "text": [
            "\u001b[0m\u001b[01;34massets\u001b[0m/  detect.py  \u001b[01;34m__pycache__\u001b[0m/      test.py   \u001b[01;34mweights\u001b[0m/\n",
            "\u001b[01;34mconfig\u001b[0m/  LICENSE    README.md         train.py\n",
            "\u001b[01;34mdata\u001b[0m/    models.py  requirements.txt  \u001b[01;34mutils\u001b[0m/\n"
          ],
          "name": "stdout"
        }
      ]
    },
    {
      "cell_type": "code",
      "metadata": {
        "id": "2_DKUo9PJmLb",
        "colab_type": "code",
        "colab": {
          "base_uri": "https://localhost:8080/",
          "height": 0
        },
        "outputId": "a063e19f-f345-4a5b-8abd-3d2e8b9026a5"
      },
      "source": [
        "!python3 detect.py --image_folder data/samples"
      ],
      "execution_count": 10,
      "outputs": [
        {
          "output_type": "stream",
          "text": [
            "Namespace(batch_size=1, checkpoint_model=None, class_path='data/coco.names', conf_thres=0.8, image_folder='data/samples', img_size=416, model_def='config/yolov3.cfg', n_cpu=0, nms_thres=0.4, weights_path='weights/yolov3.weights')\n",
            "\n",
            "Performing object detection:\n",
            "\t+ Batch 0, Inference Time: 0:00:01.621906\n",
            "\t+ Batch 1, Inference Time: 0:00:01.299823\n",
            "\t+ Batch 2, Inference Time: 0:00:01.306582\n",
            "\t+ Batch 3, Inference Time: 0:00:01.293767\n",
            "\t+ Batch 4, Inference Time: 0:00:01.296125\n",
            "\t+ Batch 5, Inference Time: 0:00:01.342311\n",
            "\t+ Batch 6, Inference Time: 0:00:01.303922\n",
            "\t+ Batch 7, Inference Time: 0:00:01.315772\n",
            "\t+ Batch 8, Inference Time: 0:00:01.316154\n",
            "\n",
            "Saving images:\n",
            "(0) Image: 'data/samples/dog.jpg'\n",
            "\t+ Label: dog, Conf: 0.99335\n",
            "\t+ Label: bicycle, Conf: 0.99981\n",
            "\t+ Label: truck, Conf: 0.94229\n",
            "(1) Image: 'data/samples/eagle.jpg'\n",
            "\t+ Label: bird, Conf: 0.99703\n",
            "(2) Image: 'data/samples/field.jpg'\n",
            "\t+ Label: person, Conf: 0.99996\n",
            "\t+ Label: horse, Conf: 0.99977\n",
            "\t+ Label: dog, Conf: 0.99409\n",
            "(3) Image: 'data/samples/giraffe.jpg'\n",
            "\t+ Label: giraffe, Conf: 0.99959\n",
            "\t+ Label: zebra, Conf: 0.97958\n",
            "(4) Image: 'data/samples/herd_of_horses.jpg'\n",
            "\t+ Label: horse, Conf: 0.99459\n",
            "\t+ Label: horse, Conf: 0.99352\n",
            "\t+ Label: horse, Conf: 0.96845\n",
            "\t+ Label: horse, Conf: 0.99478\n",
            "(5) Image: 'data/samples/messi.jpg'\n",
            "\t+ Label: person, Conf: 0.99993\n",
            "\t+ Label: person, Conf: 0.99984\n",
            "\t+ Label: person, Conf: 0.99996\n",
            "(6) Image: 'data/samples/person.jpg'\n",
            "\t+ Label: person, Conf: 0.99883\n",
            "\t+ Label: dog, Conf: 0.99275\n",
            "(7) Image: 'data/samples/room.jpg'\n",
            "\t+ Label: chair, Conf: 0.99906\n",
            "\t+ Label: chair, Conf: 0.96942\n",
            "\t+ Label: clock, Conf: 0.99971\n",
            "(8) Image: 'data/samples/street.jpg'\n",
            "\t+ Label: car, Conf: 0.99977\n",
            "\t+ Label: car, Conf: 0.99402\n",
            "\t+ Label: car, Conf: 0.99841\n",
            "\t+ Label: car, Conf: 0.99785\n",
            "\t+ Label: car, Conf: 0.97907\n",
            "\t+ Label: car, Conf: 0.95370\n",
            "\t+ Label: traffic light, Conf: 0.99995\n",
            "\t+ Label: car, Conf: 0.62254\n"
          ],
          "name": "stdout"
        }
      ]
    },
    {
      "cell_type": "code",
      "metadata": {
        "id": "oB0mH7iHKc6h",
        "colab_type": "code",
        "colab": {}
      },
      "source": [
        ""
      ],
      "execution_count": 0,
      "outputs": []
    }
  ]
}